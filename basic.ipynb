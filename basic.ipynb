{
 "cells": [
  {
   "cell_type": "markdown",
   "metadata": {},
   "source": [
    "# Python 基礎講座\n",
    "\n",
    "プログラムを理解するために必要な基本的な Python の概念を紹介します"
   ]
  },
  {
   "cell_type": "markdown",
   "metadata": {},
   "source": [
    "## 1.基本的な文法"
   ]
  },
  {
   "cell_type": "markdown",
   "metadata": {},
   "source": [
    "print()"
   ]
  },
  {
   "cell_type": "code",
   "execution_count": 1,
   "metadata": {},
   "outputs": [
    {
     "name": "stdout",
     "output_type": "stream",
     "text": [
      "Hello, World!\n",
      "42\n",
      "The answer is 42\n",
      "My name is Alice and I am 30 years old.\n",
      "Pi is approximately 3.14\n"
     ]
    }
   ],
   "source": [
    "print(\"Hello, World!\")  # 文字列の出力\n",
    "print(42)  # 数値の出力\n",
    "print(\"The answer is\", 42)  # 複数の値の出力\n",
    "\n",
    "# print関数は、括弧内の値や変数を画面に表示します。\n",
    "# コンマで区切ることで複数の項目を出力でき、それらは自動的にスペースで区切られます。\n",
    "\n",
    "# f-stringの使用例\n",
    "name = \"Alice\"\n",
    "age = 30\n",
    "\n",
    "# 基本的なf-string\n",
    "print(f\"My name is {name} and I am {age} years old.\")\n",
    "\n",
    "# 数値のフォーマット\n",
    "pi = 3.14159\n",
    "print(f\"Pi is approximately {pi:.2f}\")  # 小数点以下2桁まで表示"
   ]
  },
  {
   "cell_type": "markdown",
   "metadata": {},
   "source": [
    "配列"
   ]
  },
  {
   "cell_type": "code",
   "execution_count": 2,
   "metadata": {},
   "outputs": [
    {
     "name": "stdout",
     "output_type": "stream",
     "text": [
      "[1, 2, 3, 4, 5]\n",
      "1\n",
      "5\n",
      "[1, 'two', 3.0, [4, 5]]\n",
      "[1, 2, 3, 4, 5, 6]\n"
     ]
    }
   ],
   "source": [
    "# 2. Pythonのリスト（配列）\n",
    "my_list = [1, 2, 3, 4, 5]\n",
    "print(my_list)  # リスト全体の表示\n",
    "print(my_list[0])  # 最初の要素（インデックスは0から始まる）\n",
    "print(my_list[-1])  # 最後の要素\n",
    "\n",
    "# リストは様々な型の要素を含むことができます\n",
    "mixed_list = [1, \"two\", 3.0, [4, 5]]\n",
    "print(mixed_list)\n",
    "\n",
    "# リストの操作\n",
    "my_list.append(6)  # 末尾に要素を追加\n",
    "print(my_list)"
   ]
  },
  {
   "cell_type": "markdown",
   "metadata": {},
   "source": [
    "for文"
   ]
  },
  {
   "cell_type": "code",
   "execution_count": 3,
   "metadata": {},
   "outputs": [
    {
     "name": "stdout",
     "output_type": "stream",
     "text": [
      "0\n",
      "1\n",
      "2\n",
      "3\n",
      "4\n",
      "apple\n",
      "banana\n",
      "cherry\n",
      "Index 0: apple\n",
      "Index 1: banana\n",
      "Index 2: cherry\n",
      "name: Alice\n",
      "age: 30\n",
      "city: New York\n"
     ]
    }
   ],
   "source": [
    "# 基本的なfor ループ\n",
    "for i in range(5):\n",
    "    print(i)  # 0から4までの数字を出力\n",
    "\n",
    "# リストを使用したfor ループ\n",
    "fruits = [\"apple\", \"banana\", \"cherry\"]\n",
    "for fruit in fruits:\n",
    "    print(fruit)\n",
    "\n",
    "# enumerate()関数を使用したforループでは、リストの要素とそのインデックスの両方にアクセスできます。\n",
    "for index, fruit in enumerate(fruits):\n",
    "    print(f\"Index {index}: {fruit}\")\n",
    "\n",
    "# 辞書を使用したfor ループ\n",
    "person = {\"name\": \"Alice\", \"age\": 30, \"city\": \"New York\"}\n",
    "for key, value in person.items():\n",
    "    print(f\"{key}: {value}\")"
   ]
  },
  {
   "cell_type": "markdown",
   "metadata": {},
   "source": [
    "if文"
   ]
  },
  {
   "cell_type": "code",
   "execution_count": 4,
   "metadata": {},
   "outputs": [
    {
     "name": "stdout",
     "output_type": "stream",
     "text": [
      "\n",
      "if 文の例:\n",
      "xは5より大きい\n",
      "yは5より小さい\n",
      "車を運転できます\n",
      "偶数: [2, 4, 6, 8, 10]\n"
     ]
    }
   ],
   "source": [
    "print(\"\\nif 文の例:\")\n",
    "# 基本的なif文\n",
    "x = 10\n",
    "if x > 5:\n",
    "    print(\"xは5より大きい\")\n",
    "\n",
    "# if-elif-else文\n",
    "y = 3\n",
    "if y > 5:\n",
    "    print(\"yは5より大きい\")\n",
    "elif y < 5:\n",
    "    print(\"yは5より小さい\")\n",
    "else:\n",
    "    print(\"yは5に等しい\")\n",
    "\n",
    "# 条件式の組み合わせ\n",
    "age = 25\n",
    "has_license = True\n",
    "if age >= 18 and has_license:\n",
    "    print(\"車を運転できます\")\n",
    "\n",
    "# リスト内包表記でのif文の使用\n",
    "numbers = [1, 2, 3, 4, 5, 6, 7, 8, 9, 10]\n",
    "even_numbers = [num for num in numbers if num % 2 == 0]\n",
    "print(\"偶数:\", even_numbers)"
   ]
  },
  {
   "cell_type": "markdown",
   "metadata": {},
   "source": [
    "## 2. インポート\n",
    "\n",
    "Pythonでは他のモジュールやライブラリのコードを使用するために `import` 文を使用します"
   ]
  },
  {
   "cell_type": "code",
   "execution_count": 5,
   "metadata": {},
   "outputs": [],
   "source": [
    "import numpy as np\n",
    "import torch\n",
    "import os"
   ]
  },
  {
   "cell_type": "markdown",
   "metadata": {},
   "source": [
    "### よく使うライブラリについて\n",
    "多次元配列(テンソル)を扱う際にはnumpyや、pytorchを使うことが多いです。"
   ]
  },
  {
   "cell_type": "markdown",
   "metadata": {},
   "source": [
    "### numpy"
   ]
  },
  {
   "cell_type": "code",
   "execution_count": 6,
   "metadata": {},
   "outputs": [
    {
     "name": "stdout",
     "output_type": "stream",
     "text": [
      "NumPy配列: [1 2 3 4 5]\n",
      "NumPy行列:\n",
      " [[1 2 3]\n",
      " [4 5 6]]\n",
      "要素の和: 15\n",
      "平均値: 3.0\n",
      "各要素に2を加算: [3 4 5 6 7]\n"
     ]
    }
   ],
   "source": [
    "# NumPy配列の作成\n",
    "np_array = np.array([1, 2, 3, 4, 5])\n",
    "print(\"NumPy配列:\", np_array)\n",
    "\n",
    "# 多次元NumPy配列\n",
    "np_matrix = np.array([[1, 2, 3], [4, 5, 6]])\n",
    "print(\"NumPy行列:\\n\", np_matrix)\n",
    "\n",
    "# NumPy配列の操作\n",
    "print(\"要素の和:\", np.sum(np_array))\n",
    "print(\"平均値:\", np.mean(np_array))\n",
    "\n",
    "# ブロードキャスト\n",
    "print(\"各要素に2を加算:\", np_array + 2)"
   ]
  },
  {
   "cell_type": "markdown",
   "metadata": {},
   "source": [
    "### pytorchのテンソル"
   ]
  },
  {
   "cell_type": "code",
   "execution_count": 7,
   "metadata": {},
   "outputs": [
    {
     "name": "stdout",
     "output_type": "stream",
     "text": [
      "PyTorchテンソル: tensor([1, 2, 3, 4, 5])\n",
      "PyTorch行列:\n",
      " tensor([[1, 2, 3],\n",
      "        [4, 5, 6]])\n",
      "要素の和: tensor(15)\n",
      "平均値: tensor(3.)\n",
      "各要素に2を加算: tensor([3, 4, 5, 6, 7])\n",
      "GPU上のテンソル: tensor([1, 2, 3, 4, 5], device='cuda:0')\n",
      "テンソルのデバイス: cuda:0\n"
     ]
    }
   ],
   "source": [
    "# PyTorchテンソルの作成\n",
    "torch_tensor = torch.tensor([1, 2, 3, 4, 5])\n",
    "print(\"PyTorchテンソル:\", torch_tensor)\n",
    "\n",
    "# 多次元PyTorchテンソル\n",
    "torch_matrix = torch.tensor([[1, 2, 3], [4, 5, 6]])\n",
    "print(\"PyTorch行列:\\n\", torch_matrix)\n",
    "\n",
    "# PyTorchテンソルの操作\n",
    "print(\"要素の和:\", torch.sum(torch_tensor))\n",
    "print(\"平均値:\", torch.mean(torch_tensor.float()))  # float型に変換\n",
    "\n",
    "# ブロードキャスト\n",
    "print(\"各要素に2を加算:\", torch_tensor + 2)\n",
    "\n",
    "# GPUへの移動（GPUが利用可能な場合）\n",
    "if torch.cuda.is_available():\n",
    "    torch_tensor_gpu = torch_tensor.to('cuda')\n",
    "    print(\"GPU上のテンソル:\", torch_tensor_gpu)\n",
    "    print(\"テンソルのデバイス:\", torch_tensor_gpu.device)"
   ]
  },
  {
   "cell_type": "markdown",
   "metadata": {},
   "source": [
    "numpyとpytorchのテンソルは相互変換できます"
   ]
  },
  {
   "cell_type": "code",
   "execution_count": 8,
   "metadata": {},
   "outputs": [
    {
     "name": "stdout",
     "output_type": "stream",
     "text": [
      "NumPyからPyTorch: tensor([1, 2, 3])\n",
      "PyTorchからNumPy: [1 2 3]\n"
     ]
    }
   ],
   "source": [
    "# NumPy配列からPyTorchテンソルへ\n",
    "np_array = np.array([1, 2, 3])\n",
    "torch_from_np = torch.from_numpy(np_array)\n",
    "print(\"NumPyからPyTorch:\", torch_from_np)\n",
    "\n",
    "# PyTorchテンソルからNumPy配列へ\n",
    "np_from_torch = torch_from_np.numpy()\n",
    "print(\"PyTorchからNumPy:\", np_from_torch)"
   ]
  },
  {
   "cell_type": "markdown",
   "metadata": {},
   "source": [
    "### pandas \n",
    "データ分析ライブラリ データを読み込んだり、集計、欠損データの処理などを行えます"
   ]
  },
  {
   "cell_type": "code",
   "execution_count": 18,
   "metadata": {},
   "outputs": [
    {
     "name": "stdout",
     "output_type": "stream",
     "text": [
      "pandas DataFrame:\n",
      "      Name  Age      City\n",
      "0    Alice   25  New York\n",
      "1      Bob   30     Paris\n",
      "2  Charlie   35    London\n",
      "\n",
      "年齢の平均:\n",
      "30.0\n",
      "\n",
      "30歳以上:\n",
      "      Name  Age    City\n",
      "1      Bob   30   Paris\n",
      "2  Charlie   35  London\n",
      "\n",
      "都市ごとの平均年齢:\n",
      "City\n",
      "London      35.0\n",
      "New York    25.0\n",
      "Paris       30.0\n",
      "Name: Age, dtype: float64\n",
      "Current working directory: /workspace\n",
      "Files in current directory: ['README.md', 'Dockerfile', 'basic.ipynb', 'code', 'dataset', 'demo.ipynb', '.git', 'docker-compose.yml', 'ERROR']\n",
      "New working directory: /workspace\n",
      "Data:      PassengerId  Survived  Pclass  \\\n",
      "0              1         0       3   \n",
      "1              2         1       1   \n",
      "2              3         1       3   \n",
      "3              4         1       1   \n",
      "4              5         0       3   \n",
      "..           ...       ...     ...   \n",
      "886          887         0       2   \n",
      "887          888         1       1   \n",
      "888          889         0       3   \n",
      "889          890         1       1   \n",
      "890          891         0       3   \n",
      "\n",
      "                                                  Name     Sex   Age  SibSp  \\\n",
      "0                              Braund, Mr. Owen Harris    male  22.0      1   \n",
      "1    Cumings, Mrs. John Bradley (Florence Briggs Th...  female  38.0      1   \n",
      "2                               Heikkinen, Miss. Laina  female  26.0      0   \n",
      "3         Futrelle, Mrs. Jacques Heath (Lily May Peel)  female  35.0      1   \n",
      "4                             Allen, Mr. William Henry    male  35.0      0   \n",
      "..                                                 ...     ...   ...    ...   \n",
      "886                              Montvila, Rev. Juozas    male  27.0      0   \n",
      "887                       Graham, Miss. Margaret Edith  female  19.0      0   \n",
      "888           Johnston, Miss. Catherine Helen \"Carrie\"  female   NaN      1   \n",
      "889                              Behr, Mr. Karl Howell    male  26.0      0   \n",
      "890                                Dooley, Mr. Patrick    male  32.0      0   \n",
      "\n",
      "     Parch            Ticket     Fare Cabin Embarked  \n",
      "0        0         A/5 21171   7.2500   NaN        S  \n",
      "1        0          PC 17599  71.2833   C85        C  \n",
      "2        0  STON/O2. 3101282   7.9250   NaN        S  \n",
      "3        0            113803  53.1000  C123        S  \n",
      "4        0            373450   8.0500   NaN        S  \n",
      "..     ...               ...      ...   ...      ...  \n",
      "886      0            211536  13.0000   NaN        S  \n",
      "887      0            112053  30.0000   B42        S  \n",
      "888      2        W./C. 6607  23.4500   NaN        S  \n",
      "889      0            111369  30.0000  C148        C  \n",
      "890      0            370376   7.7500   NaN        Q  \n",
      "\n",
      "[891 rows x 12 columns]\n"
     ]
    }
   ],
   "source": [
    "import pandas as pd\n",
    "\n",
    "# DataFrameの作成\n",
    "data = {\n",
    "    'Name': ['Alice', 'Bob', 'Charlie'],\n",
    "    'Age': [25, 30, 35],\n",
    "    'City': ['New York', 'Paris', 'London']\n",
    "}\n",
    "df = pd.DataFrame(data)\n",
    "print(\"pandas DataFrame:\")\n",
    "print(df)\n",
    "\n",
    "# 基本的な操作\n",
    "print(\"\\n年齢の平均:\")\n",
    "print(df['Age'].mean())\n",
    "\n",
    "# データのフィルタリング\n",
    "print(\"\\n30歳以上:\")\n",
    "print(df[df['Age'] >= 30])\n",
    "\n",
    "# グループ化と集計\n",
    "print(\"\\n都市ごとの平均年齢:\")\n",
    "print(df.groupby('City')['Age'].mean())\n",
    "\n",
    "import os\n",
    "print(\"Current working directory:\", os.getcwd())\n",
    "print(\"Files in current directory:\", os.listdir())\n",
    "\n",
    "os.chdir(\"/workspace\")\n",
    "print(\"New working directory:\", os.getcwd())  \n",
    "\n",
    "# データ読み込み\n",
    "train_data = pd.read_csv(\"dataset/train.csv\")\n",
    "# データの保存（例）\n",
    "# df.to_csv('output.csv', index=False)"
   ]
  },
  {
   "cell_type": "markdown",
   "metadata": {},
   "source": [
    "### matplotlib \n",
    " 高品質なグラフや図を作成するための包括的なライブラリです。"
   ]
  },
  {
   "cell_type": "code",
   "execution_count": 19,
   "metadata": {},
   "outputs": [
    {
     "data": {
      "image/png": "[encoded data removed]",
      "text/plain": [
       "<Figure size 1000x600 with 1 Axes>"
      ]
     },
     "metadata": {},
     "output_type": "display_data"
    },
    {
     "data": {
      "image/png": "[encoded data removed]",
      "text/plain": [
       "<Figure size 1000x600 with 1 Axes>"
      ]
     },
     "metadata": {},
     "output_type": "display_data"
    },
    {
     "data": {
      "image/png": "[encoded data removed]",
      "text/plain": [
       "<Figure size 1000x600 with 1 Axes>"
      ]
     },
     "metadata": {},
     "output_type": "display_data"
    },
    {
     "data": {
      "image/png": "[encoded data removed]",
      "text/plain": [
       "<Figure size 1000x600 with 1 Axes>"
      ]
     },
     "metadata": {},
     "output_type": "display_data"
    }
   ],
   "source": [
    "import matplotlib.pyplot as plt\n",
    "import numpy as np\n",
    "\n",
    "# 基本的な線グラフ\n",
    "x = np.linspace(0, 10, 100)\n",
    "y = np.sin(x)\n",
    "\n",
    "plt.figure(figsize=(10, 6))\n",
    "plt.plot(x, y, label='sin(x)')\n",
    "plt.title('Sin Wave')\n",
    "plt.xlabel('x')\n",
    "plt.ylabel('y')\n",
    "plt.legend()\n",
    "plt.grid(True)\n",
    "plt.show()\n",
    "\n",
    "# 散布図\n",
    "data1 = np.random.rand(50)\n",
    "data2 = np.random.rand(50)\n",
    "\n",
    "plt.figure(figsize=(10, 6))\n",
    "plt.scatter(data1, data2, color='red', alpha=0.5)\n",
    "plt.title('Scatter Plot')\n",
    "plt.xlabel('X')\n",
    "plt.ylabel('Y')\n",
    "plt.show()\n",
    "\n",
    "# ヒストグラム\n",
    "data = np.random.randn(1000)\n",
    "\n",
    "plt.figure(figsize=(10, 6))\n",
    "plt.hist(data, bins=30, edgecolor='black')\n",
    "plt.title('Histogram')\n",
    "plt.xlabel('Value')\n",
    "plt.ylabel('Frequency')\n",
    "plt.show()\n",
    "\n",
    "# pandasとmatplotlibの組み合わせ\n",
    "df = pd.DataFrame({\n",
    "    'A': np.random.randn(1000),\n",
    "    'B': np.random.randn(1000) + 1\n",
    "})\n",
    "\n",
    "df.plot(kind='box', figsize=(10, 6))\n",
    "plt.title('Box Plot of DataFrame Columns')\n",
    "plt.show()"
   ]
  },
  {
   "cell_type": "markdown",
   "metadata": {},
   "source": [
    "## 3. 関数\n",
    "\n",
    "関数は、特定のタスクを実行する再利用可能なコードブロックです"
   ]
  },
  {
   "cell_type": "code",
   "execution_count": 20,
   "metadata": {},
   "outputs": [
    {
     "name": "stdout",
     "output_type": "stream",
     "text": [
      "こんにちは、Python学習者さん！\n",
      "9\n",
      "8\n"
     ]
    }
   ],
   "source": [
    "def greet(name):\n",
    "    return f\"こんにちは、{name}さん！\"\n",
    "\n",
    "print(greet(\"Python学習者\"))\n",
    "\n",
    "# 複数のパラメータとデフォルト値を持つ関数\n",
    "def power(base, exponent=2):\n",
    "    return base ** exponent\n",
    "\n",
    "print(power(3))     # 3^2 = 9\n",
    "print(power(2, 3))  # 2^3 = 8"
   ]
  },
  {
   "cell_type": "markdown",
   "metadata": {},
   "source": [
    "## 4. クラス\n",
    "\n",
    "クラスは、属性（データ）とメソッド（関数）を持つオブジェクトを作成するために使用されます"
   ]
  },
  {
   "cell_type": "code",
   "execution_count": 21,
   "metadata": {},
   "outputs": [
    {
     "name": "stdout",
     "output_type": "stream",
     "text": [
      "タマ\n",
      "タマはニャーと鳴きました！\n"
     ]
    }
   ],
   "source": [
    "class Cat:\n",
    "    def __init__(self, name, age):\n",
    "        self.name = name\n",
    "        self.age = age\n",
    "    \n",
    "    def meow(self):\n",
    "        return f\"{self.name}はニャーと鳴きました！\"\n",
    "\n",
    "my_cat = Cat(\"タマ\", 2)\n",
    "print(my_cat.name)\n",
    "print(my_cat.meow())"
   ]
  },
  {
   "cell_type": "markdown",
   "metadata": {},
   "source": [
    "## 5. 継承\n",
    "\n",
    "継承により、あるクラスが別のクラスから属性とメソッドを継承することができます。"
   ]
  },
  {
   "cell_type": "code",
   "execution_count": 23,
   "metadata": {},
   "outputs": [
    {
     "name": "stdout",
     "output_type": "stream",
     "text": [
      "タマはニャーと鳴きました！\n"
     ]
    }
   ],
   "source": [
    "class Animal:\n",
    "    def __init__(self, name):\n",
    "        self.name = name\n",
    "    \n",
    "    def speak(self):\n",
    "        pass\n",
    "\n",
    "class Cat(Animal):\n",
    "    def speak(self):\n",
    "        return f\"{self.name}はニャーと鳴きました！\"\n",
    "\n",
    "my_cat = Cat(\"タマ\")\n",
    "print(my_cat.speak())"
   ]
  },
  {
   "cell_type": "markdown",
   "metadata": {},
   "source": [
    "## 6. シンプルなニューラルネットワーク\n",
    "\n",
    "PyTorchを使用したシンプルなニューラルネットワーククラスを作成"
   ]
  },
  {
   "cell_type": "code",
   "execution_count": 24,
   "metadata": {},
   "outputs": [],
   "source": [
    "import torch\n",
    "import torch.nn as nn\n",
    "import torch.optim as optim\n",
    "\n",
    "class SimpleNetwork(nn.Module):\n",
    "    def __init__(self, input_size, hidden_size, output_size):\n",
    "        # torchのnn.Moduleを継承し、親クラスの__init__メソッドを呼び出す\n",
    "        super().__init__()\n",
    "        \n",
    "        # 第一層（入力層から隠れ層）の定義\n",
    "        # nn.Linearは全結合層を表す\n",
    "        self.layer1 = nn.Linear(input_size, hidden_size)\n",
    "        \n",
    "        # 第二層（隠れ層から出力層）の定義\n",
    "        self.layer2 = nn.Linear(hidden_size, output_size)\n",
    "        \n",
    "        # 活性化関数ReLU（Rectified Linear Unit）の定義\n",
    "        self.relu = nn.ReLU()\n",
    "    \n",
    "    def forward(self, x):\n",
    "        # フォワードパスの定義\n",
    "        # 入力xを第一層に通す\n",
    "        x = self.layer1(x)\n",
    "        # ReLU活性化関数を適用\n",
    "        x = self.relu(x)\n",
    "        # 第二層に通す\n",
    "        x = self.layer2(x)\n",
    "        # 最終的な出力を返す\n",
    "        return x\n"
   ]
  },
  {
   "cell_type": "markdown",
   "metadata": {},
   "source": [
    "### NNモデルインスタンスの作成"
   ]
  },
  {
   "cell_type": "code",
   "execution_count": 25,
   "metadata": {},
   "outputs": [
    {
     "name": "stdout",
     "output_type": "stream",
     "text": [
      "SimpleNetwork(\n",
      "  (layer1): Linear(in_features=5, out_features=10, bias=True)\n",
      "  (layer2): Linear(in_features=10, out_features=2, bias=True)\n",
      "  (relu): ReLU()\n",
      ")\n"
     ]
    }
   ],
   "source": [
    "net = SimpleNetwork(input_size=5, hidden_size=10, output_size=2)\n",
    "print(net)\n",
    "#  これででネットワーク構造を出力できます"
   ]
  },
  {
   "cell_type": "markdown",
   "metadata": {},
   "source": [
    "### モデルを使った操作"
   ]
  },
  {
   "cell_type": "code",
   "execution_count": 26,
   "metadata": {},
   "outputs": [
    {
     "name": "stdout",
     "output_type": "stream",
     "text": [
      "Epoch [10/100], Loss: 0.7075\n",
      "Epoch [20/100], Loss: 0.6981\n",
      "Epoch [30/100], Loss: 0.6898\n",
      "Epoch [40/100], Loss: 0.6825\n",
      "Epoch [50/100], Loss: 0.6759\n",
      "Epoch [60/100], Loss: 0.6698\n",
      "Epoch [70/100], Loss: 0.6642\n",
      "Epoch [80/100], Loss: 0.6591\n",
      "Epoch [90/100], Loss: 0.6544\n",
      "Epoch [100/100], Loss: 0.6501\n",
      "テスト入力に対する予測: 0\n"
     ]
    }
   ],
   "source": [
    "# 損失関数の定義\n",
    "criterion = nn.CrossEntropyLoss()\n",
    "# 注: CrossEntropyLossは多クラス分類問題によく使用されます。\n",
    "# 他の選択肢: \n",
    "# - 二値分類: nn.BCELoss (Binary Cross Entropy)\n",
    "# - 回帰問題: nn.MSELoss (Mean Squared Error)\n",
    "\n",
    "# 最適化アルゴリズムの定義\n",
    "optimizer = optim.Adam(net.parameters(), lr=0.001)\n",
    "# 注: Adamは適応的な学習率を持つ最適化アルゴリズムです。\n",
    "# 他の選択肢:\n",
    "# - optim.SGD: 確率的勾配降下法\n",
    "# - optim.RMSprop: AdaGradの改良版\n",
    "\n",
    "# ダミーデータの作成\n",
    "num_samples = 100\n",
    "X = torch.randn(num_samples, 5)  # 入力データ\n",
    "y = torch.randint(0, 2, (num_samples,))  # ラベル（0または1）\n",
    "# 注: 実際のアプリケーションでは、torch.utils.data.DataLoaderを使用してデータを読み込みます。\n",
    "# DataLoaderを使用すると、バッチ処理や並列データロードが容易になります。\n",
    "\n",
    "# トレーニングループ\n",
    "num_epochs = 100\n",
    "for epoch in range(num_epochs):\n",
    "    # フォワードパス\n",
    "    outputs = net(X)\n",
    "    loss = criterion(outputs, y)\n",
    "    \n",
    "    # バックワードパスと最適化\n",
    "    optimizer.zero_grad()  # 勾配をゼロに初期化\n",
    "    loss.backward()  # 勾配の計算\n",
    "    optimizer.step()  # パラメータの更新\n",
    "    \n",
    "    if (epoch + 1) % 10 == 0:\n",
    "        print(f'Epoch [{epoch+1}/{num_epochs}], Loss: {loss.item():.4f}')\n",
    "    \n",
    "    # 注: 実際のアプリケーションでは、以下のような追加の処理を行うことがあります：\n",
    "    # - 検証データセットでの評価\n",
    "    # - 学習率のスケジューリング (例: torch.optim.lr_scheduler)\n",
    "    # - モデルのチェックポイント保存\n",
    "    # - 早期停止 (検証損失が改善しない場合にトレーニングを停止)\n",
    "\n",
    "# テストデータでの評価\n",
    "test_input = torch.randn(1, 5)\n",
    "with torch.no_grad():  # 推論時は勾配計算が不要\n",
    "    test_output = net(test_input)\n",
    "    _, predicted = torch.max(test_output.data, 1)\n",
    "    print(f'テスト入力に対する予測: {predicted.item()}')\n"
   ]
  }
 ],
 "metadata": {
  "kernelspec": {
   "display_name": "PyTorch",
   "language": "python",
   "name": "base"
  }
 },
 "nbformat": 4,
 "nbformat_minor": 4
}
